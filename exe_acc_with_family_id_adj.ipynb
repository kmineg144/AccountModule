{
 "cells": [
  {
   "cell_type": "markdown",
   "metadata": {},
   "source": [
    "## Execute family id adjustments"
   ]
  },
  {
   "cell_type": "code",
   "execution_count": 1,
   "metadata": {},
   "outputs": [],
   "source": [
    "import os\n",
    "import pandas as pd\n",
    "\n",
    "account_csv = os.path.join('data','accounts_11_2020.csv')\n",
    "output_filepath = 'outputs'\n",
    "\n",
    "opp_pkl = os.path.join(output_filepath,'opportunity.pkl')\n"
   ]
  },
  {
   "cell_type": "code",
   "execution_count": 2,
   "metadata": {},
   "outputs": [],
   "source": [
    "import sys\n",
    "sys.path.append('refactor')\n",
    "\n",
    "from params import  dropping_vars_acc, subset_vars_opp\n",
    "from account import Account\n",
    "from family_id_adj import FamilyIdAdjuster\n",
    "\n",
    "opp_df = pd.read_pickle(opp_pkl)"
   ]
  },
  {
   "cell_type": "code",
   "execution_count": 3,
   "metadata": {
    "scrolled": true
   },
   "outputs": [
    {
     "name": "stderr",
     "output_type": "stream",
     "text": [
      "c:\\users\\kmineg144\\appdata\\local\\programs\\python\\python39\\lib\\site-packages\\IPython\\core\\interactiveshell.py:3338: DtypeWarning: Columns (0,4,16) have mixed types.Specify dtype option on import or set low_memory=False.\n",
      "  if (await self.run_code(code, result,  async_=asy)):\n"
     ]
    }
   ],
   "source": [
    "fam_adj = FamilyIdAdjuster(account_csv,\n",
    "                           varname_family_id='family_id', family_id_default_val = 0,\n",
    "                           varname_family_id_region='family_id_region')\n",
    "\n",
    "fam_adj.fill_family_id(varname_parent_id = 'ParentID',\n",
    "                       varname_sv_bus_name = 'sv_root_account_name',\n",
    "                       varname_csg_bus_name = 'csg_busn_name')\n",
    "\n",
    "\n",
    "fam_adj.output_to_file('data', 'accounts_fam_adj_11_2020.csv')"
   ]
  },
  {
   "cell_type": "code",
   "execution_count": 4,
   "metadata": {
    "scrolled": true
   },
   "outputs": [
    {
     "data": {
      "text/plain": [
       "Index(['DISTINCT_LOC_ID', 'sfdc_link', 'sv_root_account_name',\n",
       "       'SV_ROOT_ACCOUNT', 'SV_ACCOUNT', 'csg_account', 'csg_busn_name',\n",
       "       'ParentID', 'ACCOUNT__C', 'CSG1', 'CSG2', 'CSG3', 'Site_Account__c',\n",
       "       'mDiv', 'SV1', 'SV2', 'SV3', 'OwnerID', 'Owner_name', 'title',\n",
       "       'Title_Role__c', 'AM_Module__c', 'CAGE_Number__c', 'SFDC_ACCOUNT_TYPE',\n",
       "       'SFDC_OBJECT_TYPE', 'SFDC_OWNER_USERNAME', 'SFDC_NAT_IND',\n",
       "       'SFDC_NAT_SP_IND', 'SV_EXCL_IND', 'CSG_EXCL_IND', '_FAMILY_ID',\n",
       "       'FAMILY_ID', '_FAMILY_ID_REGION', 'FAMILY_ID_REGION', '__tmp'],\n",
       "      dtype='object')"
      ]
     },
     "execution_count": 4,
     "metadata": {},
     "output_type": "execute_result"
    }
   ],
   "source": [
    "fam_adj.df.columns"
   ]
  },
  {
   "cell_type": "code",
   "execution_count": 5,
   "metadata": {},
   "outputs": [],
   "source": [
    "pd.DataFrame.to_csv?"
   ]
  },
  {
   "cell_type": "code",
   "execution_count": 6,
   "metadata": {
    "scrolled": true
   },
   "outputs": [
    {
     "name": "stderr",
     "output_type": "stream",
     "text": [
      "c:\\users\\kmineg144\\appdata\\local\\programs\\python\\python39\\lib\\site-packages\\IPython\\core\\interactiveshell.py:3146: DtypeWarning: Columns (0,2,14) have mixed types.Specify dtype option on import or set low_memory=False.\n",
      "  has_raised = await self.run_ast_nodes(code_ast.body, cell_name,\n"
     ]
    }
   ],
   "source": [
    "account_adj_csv = os.path.join('data', 'accounts_fam_adj_11_2020.csv', )\n",
    "df_acc_adj = pd.read_csv(account_adj_csv)"
   ]
  },
  {
   "cell_type": "code",
   "execution_count": 7,
   "metadata": {
    "scrolled": true
   },
   "outputs": [
    {
     "data": {
      "text/html": [
       "<div>\n",
       "<style scoped>\n",
       "    .dataframe tbody tr th:only-of-type {\n",
       "        vertical-align: middle;\n",
       "    }\n",
       "\n",
       "    .dataframe tbody tr th {\n",
       "        vertical-align: top;\n",
       "    }\n",
       "\n",
       "    .dataframe thead th {\n",
       "        text-align: right;\n",
       "    }\n",
       "</style>\n",
       "<table border=\"1\" class=\"dataframe\">\n",
       "  <thead>\n",
       "    <tr style=\"text-align: right;\">\n",
       "      <th></th>\n",
       "      <th>DISTINCT_LOC_ID</th>\n",
       "      <th>sfdc_link</th>\n",
       "      <th>sv_root_account_name</th>\n",
       "      <th>SV_ROOT_ACCOUNT</th>\n",
       "      <th>SV_ACCOUNT</th>\n",
       "      <th>csg_account</th>\n",
       "      <th>csg_busn_name</th>\n",
       "      <th>ParentID</th>\n",
       "      <th>ACCOUNT__C</th>\n",
       "      <th>CSG1</th>\n",
       "      <th>...</th>\n",
       "      <th>SFDC_OWNER_USERNAME</th>\n",
       "      <th>SFDC_NAT_IND</th>\n",
       "      <th>SFDC_NAT_SP_IND</th>\n",
       "      <th>SV_EXCL_IND</th>\n",
       "      <th>CSG_EXCL_IND</th>\n",
       "      <th>_FAMILY_ID</th>\n",
       "      <th>FAMILY_ID</th>\n",
       "      <th>_FAMILY_ID_REGION</th>\n",
       "      <th>FAMILY_ID_REGION</th>\n",
       "      <th>__tmp</th>\n",
       "    </tr>\n",
       "  </thead>\n",
       "  <tbody>\n",
       "    <tr>\n",
       "      <th>0</th>\n",
       "      <td>8155100515550808</td>\n",
       "      <td>CSG ACCOUNT</td>\n",
       "      <td>NaN</td>\n",
       "      <td>NaN</td>\n",
       "      <td>NaN</td>\n",
       "      <td>8.155101e+15</td>\n",
       "      <td>GLEN,WILLOW</td>\n",
       "      <td>NaN</td>\n",
       "      <td>0011H00001zQY1NQAW</td>\n",
       "      <td>8.155101e+15</td>\n",
       "      <td>...</td>\n",
       "      <td>desiree_youngdaye@comcast.com.smb</td>\n",
       "      <td>NaN</td>\n",
       "      <td>NaN</td>\n",
       "      <td>NaN</td>\n",
       "      <td>NaN</td>\n",
       "      <td>547143</td>\n",
       "      <td>547143</td>\n",
       "      <td>CALIFORNIA</td>\n",
       "      <td>CALIFORNIA</td>\n",
       "      <td>547143.0</td>\n",
       "    </tr>\n",
       "    <tr>\n",
       "      <th>1</th>\n",
       "      <td>8155100515558033</td>\n",
       "      <td>CSG ACCOUNT</td>\n",
       "      <td>NaN</td>\n",
       "      <td>NaN</td>\n",
       "      <td>NaN</td>\n",
       "      <td>8.155101e+15</td>\n",
       "      <td>MICROPRODUCTS,INSYNC</td>\n",
       "      <td>NaN</td>\n",
       "      <td>0011H00001nRiCcQAK</td>\n",
       "      <td>8.155101e+15</td>\n",
       "      <td>...</td>\n",
       "      <td>zeke_martinez@comcast.com.smb</td>\n",
       "      <td>NaN</td>\n",
       "      <td>NaN</td>\n",
       "      <td>NaN</td>\n",
       "      <td>NaN</td>\n",
       "      <td>508740</td>\n",
       "      <td>508740</td>\n",
       "      <td>CALIFORNIA</td>\n",
       "      <td>CALIFORNIA</td>\n",
       "      <td>508740.0</td>\n",
       "    </tr>\n",
       "    <tr>\n",
       "      <th>2</th>\n",
       "      <td>8155100515562258</td>\n",
       "      <td>CSG ACCOUNT</td>\n",
       "      <td>NaN</td>\n",
       "      <td>NaN</td>\n",
       "      <td>NaN</td>\n",
       "      <td>8.155101e+15</td>\n",
       "      <td>TO THI #1,PHO</td>\n",
       "      <td>NaN</td>\n",
       "      <td>0011H00001lJiUzQAK</td>\n",
       "      <td>8.155101e+15</td>\n",
       "      <td>...</td>\n",
       "      <td>ravi_krishan@comcast.com.smb</td>\n",
       "      <td>NaN</td>\n",
       "      <td>NaN</td>\n",
       "      <td>NaN</td>\n",
       "      <td>NaN</td>\n",
       "      <td>394011</td>\n",
       "      <td>394011</td>\n",
       "      <td>CALIFORNIA</td>\n",
       "      <td>CALIFORNIA</td>\n",
       "      <td>394011.0</td>\n",
       "    </tr>\n",
       "    <tr>\n",
       "      <th>3</th>\n",
       "      <td>8155100515563280</td>\n",
       "      <td>CSG ACCOUNT</td>\n",
       "      <td>NaN</td>\n",
       "      <td>NaN</td>\n",
       "      <td>NaN</td>\n",
       "      <td>8.155101e+15</td>\n",
       "      <td>HARDWARE,ACE</td>\n",
       "      <td>NaN</td>\n",
       "      <td>0011H00001nOl2tQAC</td>\n",
       "      <td>8.155101e+15</td>\n",
       "      <td>...</td>\n",
       "      <td>john_baraona@comcast.com.smb</td>\n",
       "      <td>NaN</td>\n",
       "      <td>NaN</td>\n",
       "      <td>NaN</td>\n",
       "      <td>NaN</td>\n",
       "      <td>387897</td>\n",
       "      <td>387897</td>\n",
       "      <td>CALIFORNIA</td>\n",
       "      <td>CALIFORNIA</td>\n",
       "      <td>387897.0</td>\n",
       "    </tr>\n",
       "    <tr>\n",
       "      <th>4</th>\n",
       "      <td>8155100515563470</td>\n",
       "      <td>CSG ACCOUNT</td>\n",
       "      <td>NaN</td>\n",
       "      <td>NaN</td>\n",
       "      <td>NaN</td>\n",
       "      <td>8.155101e+15</td>\n",
       "      <td>HARDWARE,ACE</td>\n",
       "      <td>NaN</td>\n",
       "      <td>0011H00001nOaUeQAK</td>\n",
       "      <td>8.155101e+15</td>\n",
       "      <td>...</td>\n",
       "      <td>john_baraona@comcast.com.smb</td>\n",
       "      <td>NaN</td>\n",
       "      <td>NaN</td>\n",
       "      <td>NaN</td>\n",
       "      <td>NaN</td>\n",
       "      <td>387897</td>\n",
       "      <td>387897</td>\n",
       "      <td>CALIFORNIA</td>\n",
       "      <td>CALIFORNIA</td>\n",
       "      <td>387897.0</td>\n",
       "    </tr>\n",
       "  </tbody>\n",
       "</table>\n",
       "<p>5 rows × 35 columns</p>\n",
       "</div>"
      ],
      "text/plain": [
       "    DISTINCT_LOC_ID    sfdc_link sv_root_account_name  SV_ROOT_ACCOUNT  \\\n",
       "0  8155100515550808  CSG ACCOUNT                  NaN              NaN   \n",
       "1  8155100515558033  CSG ACCOUNT                  NaN              NaN   \n",
       "2  8155100515562258  CSG ACCOUNT                  NaN              NaN   \n",
       "3  8155100515563280  CSG ACCOUNT                  NaN              NaN   \n",
       "4  8155100515563470  CSG ACCOUNT                  NaN              NaN   \n",
       "\n",
       "   SV_ACCOUNT   csg_account         csg_busn_name ParentID  \\\n",
       "0         NaN  8.155101e+15           GLEN,WILLOW      NaN   \n",
       "1         NaN  8.155101e+15  MICROPRODUCTS,INSYNC      NaN   \n",
       "2         NaN  8.155101e+15         TO THI #1,PHO      NaN   \n",
       "3         NaN  8.155101e+15          HARDWARE,ACE      NaN   \n",
       "4         NaN  8.155101e+15          HARDWARE,ACE      NaN   \n",
       "\n",
       "           ACCOUNT__C          CSG1  ...                SFDC_OWNER_USERNAME  \\\n",
       "0  0011H00001zQY1NQAW  8.155101e+15  ...  desiree_youngdaye@comcast.com.smb   \n",
       "1  0011H00001nRiCcQAK  8.155101e+15  ...      zeke_martinez@comcast.com.smb   \n",
       "2  0011H00001lJiUzQAK  8.155101e+15  ...       ravi_krishan@comcast.com.smb   \n",
       "3  0011H00001nOl2tQAC  8.155101e+15  ...       john_baraona@comcast.com.smb   \n",
       "4  0011H00001nOaUeQAK  8.155101e+15  ...       john_baraona@comcast.com.smb   \n",
       "\n",
       "  SFDC_NAT_IND SFDC_NAT_SP_IND SV_EXCL_IND CSG_EXCL_IND _FAMILY_ID FAMILY_ID  \\\n",
       "0          NaN             NaN         NaN          NaN     547143    547143   \n",
       "1          NaN             NaN         NaN          NaN     508740    508740   \n",
       "2          NaN             NaN         NaN          NaN     394011    394011   \n",
       "3          NaN             NaN         NaN          NaN     387897    387897   \n",
       "4          NaN             NaN         NaN          NaN     387897    387897   \n",
       "\n",
       "  _FAMILY_ID_REGION FAMILY_ID_REGION     __tmp  \n",
       "0        CALIFORNIA       CALIFORNIA  547143.0  \n",
       "1        CALIFORNIA       CALIFORNIA  508740.0  \n",
       "2        CALIFORNIA       CALIFORNIA  394011.0  \n",
       "3        CALIFORNIA       CALIFORNIA  387897.0  \n",
       "4        CALIFORNIA       CALIFORNIA  387897.0  \n",
       "\n",
       "[5 rows x 35 columns]"
      ]
     },
     "execution_count": 7,
     "metadata": {},
     "output_type": "execute_result"
    }
   ],
   "source": [
    "df_acc_adj.head()"
   ]
  },
  {
   "cell_type": "code",
   "execution_count": 8,
   "metadata": {
    "scrolled": true
   },
   "outputs": [
    {
     "data": {
      "text/plain": [
       "(882028, 508495)"
      ]
     },
     "execution_count": 8,
     "metadata": {},
     "output_type": "execute_result"
    }
   ],
   "source": [
    "len(df_acc_adj), len(df_acc_adj['FAMILY_ID'].unique())"
   ]
  },
  {
   "cell_type": "code",
   "execution_count": 9,
   "metadata": {},
   "outputs": [
    {
     "data": {
      "text/plain": [
       "CALIFORNIA             218706\n",
       "MOUNTAIN WEST          160009\n",
       "SEATTLE                109558\n",
       "FREEDOM                103089\n",
       "PORTLAND                72384\n",
       "HOUSTON                 71993\n",
       "TWIN CITIES             66885\n",
       "CHICAGO                 36493\n",
       "UNKNOWN                 10597\n",
       "KEYSTONE                 9251\n",
       "BELTWAY                  6632\n",
       "FLORIDA                   943\n",
       "BIG SOUTH                 654\n",
       "GREATER BOSTON            648\n",
       "HEARTLAND                 462\n",
       "WESTERN NEW ENGLAND       130\n",
       "Name: _FAMILY_ID_REGION, dtype: int64"
      ]
     },
     "execution_count": 9,
     "metadata": {},
     "output_type": "execute_result"
    }
   ],
   "source": [
    "df_acc_adj._FAMILY_ID_REGION.value_counts()"
   ]
  },
  {
   "cell_type": "code",
   "execution_count": 10,
   "metadata": {},
   "outputs": [
    {
     "data": {
      "text/plain": [
       "CALIFORNIA             218793\n",
       "MOUNTAIN WEST          159970\n",
       "SEATTLE                109637\n",
       "FREEDOM                102439\n",
       "PORTLAND                72326\n",
       "HOUSTON                 71997\n",
       "TWIN CITIES             66857\n",
       "CHICAGO                 37200\n",
       "UNKNOWN                 10627\n",
       "KEYSTONE                 9258\n",
       "BELTWAY                  6649\n",
       "FLORIDA                   782\n",
       "BIG SOUTH                 660\n",
       "GREATER BOSTON            648\n",
       "HEARTLAND                 462\n",
       "WESTERN NEW ENGLAND       129\n",
       "Name: FAMILY_ID_REGION, dtype: int64"
      ]
     },
     "execution_count": 10,
     "metadata": {},
     "output_type": "execute_result"
    }
   ],
   "source": [
    "df_acc_adj.FAMILY_ID_REGION.value_counts()"
   ]
  },
  {
   "cell_type": "code",
   "execution_count": null,
   "metadata": {},
   "outputs": [],
   "source": []
  },
  {
   "cell_type": "markdown",
   "metadata": {},
   "source": [
    "## Execute account data processing"
   ]
  },
  {
   "cell_type": "code",
   "execution_count": 11,
   "metadata": {},
   "outputs": [
    {
     "name": "stderr",
     "output_type": "stream",
     "text": [
      "c:\\users\\kmineg144\\appdata\\local\\programs\\python\\python39\\lib\\site-packages\\IPython\\core\\interactiveshell.py:3338: DtypeWarning: Columns (0,2,14) have mixed types.Specify dtype option on import or set low_memory=False.\n",
      "  if (await self.run_code(code, result,  async_=asy)):\n"
     ]
    }
   ],
   "source": [
    "acc = Account(account_adj_csv, varname_family_id = 'FAMILY_ID')\n",
    "acc.merge_data(opp_df[subset_vars_opp])\n",
    "acc.add_columns()\n",
    "acc.filter() \n",
    "acc.drop_vars(dropping_vars_acc)\n",
    "acc.output_to_file(output_filepath)"
   ]
  },
  {
   "cell_type": "markdown",
   "metadata": {},
   "source": [
    "## Inspect processed account data"
   ]
  },
  {
   "cell_type": "code",
   "execution_count": 12,
   "metadata": {},
   "outputs": [],
   "source": [
    "acc_df = pd.read_pickle(os.path.join(output_filepath, 'account.pkl'))"
   ]
  },
  {
   "cell_type": "code",
   "execution_count": 13,
   "metadata": {},
   "outputs": [
    {
     "name": "stdout",
     "output_type": "stream",
     "text": [
      "508495\n"
     ]
    },
    {
     "data": {
      "text/html": [
       "<div>\n",
       "<style scoped>\n",
       "    .dataframe tbody tr th:only-of-type {\n",
       "        vertical-align: middle;\n",
       "    }\n",
       "\n",
       "    .dataframe tbody tr th {\n",
       "        vertical-align: top;\n",
       "    }\n",
       "\n",
       "    .dataframe thead th {\n",
       "        text-align: right;\n",
       "    }\n",
       "</style>\n",
       "<table border=\"1\" class=\"dataframe\">\n",
       "  <thead>\n",
       "    <tr style=\"text-align: right;\">\n",
       "      <th></th>\n",
       "      <th>ACCOUNT__C</th>\n",
       "      <th>DISTINCT_LOC_ID</th>\n",
       "      <th>SFDC_LINK</th>\n",
       "      <th>SV_ROOT_ACCOUNT_NAME</th>\n",
       "      <th>SV_ROOT_ACCOUNT</th>\n",
       "      <th>SV_ACCOUNT</th>\n",
       "      <th>CSG_ACCOUNT</th>\n",
       "      <th>CSG_BUSN_NAME</th>\n",
       "      <th>PARENTID</th>\n",
       "      <th>CSG1</th>\n",
       "      <th>...</th>\n",
       "      <th>__TMP</th>\n",
       "      <th>OPPORTUNITY_NUMBER__C</th>\n",
       "      <th>CREATEDDATE</th>\n",
       "      <th>OPPORTUNITY_EXCL_IND</th>\n",
       "      <th>OPPORTUNITY_OWNER_ROLE</th>\n",
       "      <th>OPPORTUNITY_OWNER_NAME</th>\n",
       "      <th>FINAL_OWNERS_NAME</th>\n",
       "      <th>FINAL_OWNER_ROLE_NAME</th>\n",
       "      <th>SP_IND</th>\n",
       "      <th>FAMILY_MOST_RECENT_OPPORTUNITY</th>\n",
       "    </tr>\n",
       "  </thead>\n",
       "  <tbody>\n",
       "    <tr>\n",
       "      <th>847028</th>\n",
       "      <td>001A0000017TQbsIAG</td>\n",
       "      <td>933662931933662931110672824000</td>\n",
       "      <td>SV ACCOUNT</td>\n",
       "      <td>SP Richards Co</td>\n",
       "      <td>933662931.0</td>\n",
       "      <td>933662931.0</td>\n",
       "      <td>NaN</td>\n",
       "      <td>NaN</td>\n",
       "      <td>NaN</td>\n",
       "      <td>8.220111e+15</td>\n",
       "      <td>...</td>\n",
       "      <td>791.0</td>\n",
       "      <td>O-24409608</td>\n",
       "      <td>2020-12-03</td>\n",
       "      <td>Locked - Open Opportunity</td>\n",
       "      <td>SEAE</td>\n",
       "      <td>Brittney Dyess</td>\n",
       "      <td>Brittney Dyess</td>\n",
       "      <td>SEAE</td>\n",
       "      <td>NaN</td>\n",
       "      <td>NaT</td>\n",
       "    </tr>\n",
       "    <tr>\n",
       "      <th>168996</th>\n",
       "      <td>0011200001LV0IHAA1</td>\n",
       "      <td>8777701330438786</td>\n",
       "      <td>CSG ACCOUNT</td>\n",
       "      <td>NaN</td>\n",
       "      <td>NaN</td>\n",
       "      <td>NaN</td>\n",
       "      <td>8.777701e+15</td>\n",
       "      <td>SYSTEMS INC,CORNERSTONE</td>\n",
       "      <td>NaN</td>\n",
       "      <td>8.777701e+15</td>\n",
       "      <td>...</td>\n",
       "      <td>127465.0</td>\n",
       "      <td>O-24248304</td>\n",
       "      <td>2020-11-09</td>\n",
       "      <td>Locked - Open Opportunity</td>\n",
       "      <td>SEAE</td>\n",
       "      <td>Andrew Forsyth</td>\n",
       "      <td>Andrew Forsyth</td>\n",
       "      <td>SEAE</td>\n",
       "      <td>NaN</td>\n",
       "      <td>NaT</td>\n",
       "    </tr>\n",
       "    <tr>\n",
       "      <th>393645</th>\n",
       "      <td>0011H00001dDaKOQA0</td>\n",
       "      <td>934539296934539296010390050000</td>\n",
       "      <td>SV ACCOUNT</td>\n",
       "      <td>Waypoint Analytical</td>\n",
       "      <td>934539296.0</td>\n",
       "      <td>934539296.0</td>\n",
       "      <td>NaN</td>\n",
       "      <td>NaN</td>\n",
       "      <td>NaN</td>\n",
       "      <td>8.396411e+15</td>\n",
       "      <td>...</td>\n",
       "      <td>13359.0</td>\n",
       "      <td>O-22548774</td>\n",
       "      <td>2020-03-20</td>\n",
       "      <td>Locked - Open Opportunity</td>\n",
       "      <td>EAM</td>\n",
       "      <td>Chris Thompson</td>\n",
       "      <td>Chris Thompson</td>\n",
       "      <td>EAM</td>\n",
       "      <td>NaN</td>\n",
       "      <td>NaT</td>\n",
       "    </tr>\n",
       "    <tr>\n",
       "      <th>802108</th>\n",
       "      <td>001A0000011Fu3hIAC</td>\n",
       "      <td>930011056930011056310010040000</td>\n",
       "      <td>SV ROOT ACCOUNT</td>\n",
       "      <td>Internap</td>\n",
       "      <td>930011056.0</td>\n",
       "      <td>930011056.0</td>\n",
       "      <td>NaN</td>\n",
       "      <td>NaN</td>\n",
       "      <td>NaN</td>\n",
       "      <td>NaN</td>\n",
       "      <td>...</td>\n",
       "      <td>9424.0</td>\n",
       "      <td>O-20215754</td>\n",
       "      <td>2019-05-09</td>\n",
       "      <td>Locked - Open Opportunity</td>\n",
       "      <td>SEAE</td>\n",
       "      <td>Brittney Dyess</td>\n",
       "      <td>Brittney Dyess</td>\n",
       "      <td>SEAE</td>\n",
       "      <td>NaN</td>\n",
       "      <td>NaT</td>\n",
       "    </tr>\n",
       "    <tr>\n",
       "      <th>807222</th>\n",
       "      <td>001A0000011GJbCIAW</td>\n",
       "      <td>930873724930873724060010470000</td>\n",
       "      <td>SV ROOT ACCOUNT</td>\n",
       "      <td>Sohonet, Inc.</td>\n",
       "      <td>930873724.0</td>\n",
       "      <td>930873724.0</td>\n",
       "      <td>NaN</td>\n",
       "      <td>NaN</td>\n",
       "      <td>NaN</td>\n",
       "      <td>NaN</td>\n",
       "      <td>...</td>\n",
       "      <td>14246.0</td>\n",
       "      <td>O-13915529</td>\n",
       "      <td>2017-01-04</td>\n",
       "      <td>Locked - Open Opportunity</td>\n",
       "      <td>SEAE</td>\n",
       "      <td>Brittney Dyess</td>\n",
       "      <td>Brittney Dyess</td>\n",
       "      <td>SEAE</td>\n",
       "      <td>NaN</td>\n",
       "      <td>NaT</td>\n",
       "    </tr>\n",
       "  </tbody>\n",
       "</table>\n",
       "<p>5 rows × 39 columns</p>\n",
       "</div>"
      ],
      "text/plain": [
       "                ACCOUNT__C                 DISTINCT_LOC_ID        SFDC_LINK  \\\n",
       "847028  001A0000017TQbsIAG  933662931933662931110672824000       SV ACCOUNT   \n",
       "168996  0011200001LV0IHAA1                8777701330438786      CSG ACCOUNT   \n",
       "393645  0011H00001dDaKOQA0  934539296934539296010390050000       SV ACCOUNT   \n",
       "802108  001A0000011Fu3hIAC  930011056930011056310010040000  SV ROOT ACCOUNT   \n",
       "807222  001A0000011GJbCIAW  930873724930873724060010470000  SV ROOT ACCOUNT   \n",
       "\n",
       "       SV_ROOT_ACCOUNT_NAME  SV_ROOT_ACCOUNT   SV_ACCOUNT   CSG_ACCOUNT  \\\n",
       "847028       SP Richards Co      933662931.0  933662931.0           NaN   \n",
       "168996                  NaN              NaN          NaN  8.777701e+15   \n",
       "393645  Waypoint Analytical      934539296.0  934539296.0           NaN   \n",
       "802108             Internap      930011056.0  930011056.0           NaN   \n",
       "807222        Sohonet, Inc.      930873724.0  930873724.0           NaN   \n",
       "\n",
       "                  CSG_BUSN_NAME PARENTID          CSG1  ...     __TMP  \\\n",
       "847028                      NaN      NaN  8.220111e+15  ...     791.0   \n",
       "168996  SYSTEMS INC,CORNERSTONE      NaN  8.777701e+15  ...  127465.0   \n",
       "393645                      NaN      NaN  8.396411e+15  ...   13359.0   \n",
       "802108                      NaN      NaN           NaN  ...    9424.0   \n",
       "807222                      NaN      NaN           NaN  ...   14246.0   \n",
       "\n",
       "       OPPORTUNITY_NUMBER__C CREATEDDATE       OPPORTUNITY_EXCL_IND  \\\n",
       "847028            O-24409608  2020-12-03  Locked - Open Opportunity   \n",
       "168996            O-24248304  2020-11-09  Locked - Open Opportunity   \n",
       "393645            O-22548774  2020-03-20  Locked - Open Opportunity   \n",
       "802108            O-20215754  2019-05-09  Locked - Open Opportunity   \n",
       "807222            O-13915529  2017-01-04  Locked - Open Opportunity   \n",
       "\n",
       "       OPPORTUNITY_OWNER_ROLE OPPORTUNITY_OWNER_NAME FINAL_OWNERS_NAME  \\\n",
       "847028                   SEAE         Brittney Dyess    Brittney Dyess   \n",
       "168996                   SEAE         Andrew Forsyth    Andrew Forsyth   \n",
       "393645                    EAM         Chris Thompson    Chris Thompson   \n",
       "802108                   SEAE         Brittney Dyess    Brittney Dyess   \n",
       "807222                   SEAE         Brittney Dyess    Brittney Dyess   \n",
       "\n",
       "       FINAL_OWNER_ROLE_NAME SP_IND FAMILY_MOST_RECENT_OPPORTUNITY  \n",
       "847028                  SEAE    NaN                            NaT  \n",
       "168996                  SEAE    NaN                            NaT  \n",
       "393645                   EAM    NaN                            NaT  \n",
       "802108                  SEAE    NaN                            NaT  \n",
       "807222                  SEAE    NaN                            NaT  \n",
       "\n",
       "[5 rows x 39 columns]"
      ]
     },
     "execution_count": 13,
     "metadata": {},
     "output_type": "execute_result"
    }
   ],
   "source": [
    "print(len(acc_df))\n",
    "acc_df.head()"
   ]
  },
  {
   "cell_type": "code",
   "execution_count": 14,
   "metadata": {},
   "outputs": [
    {
     "data": {
      "text/plain": [
       "2020-10-26    988\n",
       "2020-10-20    896\n",
       "2020-07-13    883\n",
       "2020-10-27    871\n",
       "2020-11-02    871\n",
       "             ... \n",
       "2012-03-04      1\n",
       "2012-09-01      1\n",
       "2013-01-06      1\n",
       "2012-07-08      1\n",
       "2016-10-30      1\n",
       "Name: FAMILY_MOST_RECENT_OPPORTUNITY, Length: 3176, dtype: int64"
      ]
     },
     "execution_count": 14,
     "metadata": {},
     "output_type": "execute_result"
    }
   ],
   "source": [
    "acc_df.FAMILY_MOST_RECENT_OPPORTUNITY.value_counts()"
   ]
  },
  {
   "cell_type": "code",
   "execution_count": 15,
   "metadata": {},
   "outputs": [
    {
     "data": {
      "text/plain": [
       "99999520"
      ]
     },
     "execution_count": 15,
     "metadata": {},
     "output_type": "execute_result"
    }
   ],
   "source": [
    "acc_df.FAMILY_ID.max()"
   ]
  },
  {
   "cell_type": "code",
   "execution_count": 16,
   "metadata": {},
   "outputs": [
    {
     "data": {
      "text/plain": [
       "847028         791\n",
       "168996      127465\n",
       "393645       13359\n",
       "802108        9424\n",
       "807222       14246\n",
       "807188      479007\n",
       "50051         3014\n",
       "28707     86858020\n",
       "28708         2837\n",
       "802884      592826\n",
       "Name: FAMILY_ID, dtype: int64"
      ]
     },
     "execution_count": 16,
     "metadata": {},
     "output_type": "execute_result"
    }
   ],
   "source": [
    "acc_df.FAMILY_ID[:10]"
   ]
  },
  {
   "cell_type": "code",
   "execution_count": null,
   "metadata": {},
   "outputs": [],
   "source": []
  },
  {
   "cell_type": "code",
   "execution_count": null,
   "metadata": {},
   "outputs": [],
   "source": []
  },
  {
   "cell_type": "code",
   "execution_count": null,
   "metadata": {},
   "outputs": [],
   "source": []
  }
 ],
 "metadata": {
  "kernelspec": {
   "display_name": "Python 3",
   "language": "python",
   "name": "python3"
  },
  "language_info": {
   "codemirror_mode": {
    "name": "ipython",
    "version": 3
   },
   "file_extension": ".py",
   "mimetype": "text/x-python",
   "name": "python",
   "nbconvert_exporter": "python",
   "pygments_lexer": "ipython3",
   "version": "3.9.0"
  }
 },
 "nbformat": 4,
 "nbformat_minor": 4
}
